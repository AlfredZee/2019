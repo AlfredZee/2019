{
 "cells": [
  {
   "cell_type": "code",
   "execution_count": 3,
   "metadata": {},
   "outputs": [],
   "source": [
    "import pyaudio\n",
    "import wave"
   ]
  },
  {
   "cell_type": "code",
   "execution_count": 5,
   "metadata": {},
   "outputs": [
    {
     "name": "stdout",
     "output_type": "stream",
     "text": [
      "是否开始录音？   （是/否）是\n",
      "********** 开始录音：请在5秒内输入语音\n",
      "********** 录音结束\n",
      "\n"
     ]
    }
   ],
   "source": [
    "'''\n",
    "input_filename = \"input.wav\"               # 麦克风采集的语音输入\n",
    "input_filepath = \"C:/Users/王子维/Desktop/my_test/one_sentence/\"              # 输入文件的path\n",
    "in_path = input_filepath + input_filename\n",
    "'''\n",
    "\n",
    "def get_audio(filepath):\n",
    "    aa = str(input(\"是否开始录音？   （是/否）\"))\n",
    "    if aa == str(\"是\") :\n",
    "        CHUNK = 256\n",
    "        FORMAT = pyaudio.paInt16\n",
    "        CHANNELS = 1                # 声道数\n",
    "        RATE = 11025                # 采样率\n",
    "        RECORD_SECONDS = 5\n",
    "        WAVE_OUTPUT_FILENAME = filepath\n",
    "        p = pyaudio.PyAudio()\n",
    "\n",
    "        stream = p.open(format=FORMAT,\n",
    "                        channels=CHANNELS,\n",
    "                        rate=RATE,\n",
    "                        input=True,\n",
    "                        frames_per_buffer=CHUNK)\n",
    "\n",
    "        print(\"*\"*10, \"开始录音：请在5秒内输入语音\")\n",
    "        frames = []\n",
    "        for i in range(0, int(RATE / CHUNK * RECORD_SECONDS)):\n",
    "            data = stream.read(CHUNK)\n",
    "            frames.append(data)\n",
    "        print(\"*\"*10, \"录音结束\\n\")\n",
    "\n",
    "        stream.stop_stream()\n",
    "        stream.close()\n",
    "        p.terminate()\n",
    "\n",
    "        wf = wave.open(WAVE_OUTPUT_FILENAME, 'wb')\n",
    "        wf.setnchannels(CHANNELS)\n",
    "        wf.setsampwidth(p.get_sample_size(FORMAT))\n",
    "        wf.setframerate(RATE)\n",
    "        wf.writeframes(b''.join(frames))\n",
    "        wf.close()\n",
    "    elif aa == str(\"否\"):\n",
    "        exit()\n",
    "    else:\n",
    "        print(\"无效输入，请重新选择\")\n",
    "        get_audio(in_path)\n",
    "\n",
    "# 联合上一篇博客代码使用，就注释掉下面，单独使用就不注释\n",
    "#get_audio(in_path)"
   ]
  },
  {
   "cell_type": "code",
   "execution_count": null,
   "metadata": {
    "collapsed": true
   },
   "outputs": [],
   "source": []
  }
 ],
 "metadata": {
  "kernelspec": {
   "display_name": "Python 3",
   "language": "python",
   "name": "python3"
  },
  "language_info": {
   "codemirror_mode": {
    "name": "ipython",
    "version": 3
   },
   "file_extension": ".py",
   "mimetype": "text/x-python",
   "name": "python",
   "nbconvert_exporter": "python",
   "pygments_lexer": "ipython3",
   "version": "3.6.3"
  }
 },
 "nbformat": 4,
 "nbformat_minor": 2
}
