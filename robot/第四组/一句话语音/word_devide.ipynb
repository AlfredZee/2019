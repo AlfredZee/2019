{
 "cells": [
  {
   "cell_type": "code",
   "execution_count": 1,
   "metadata": {
    "collapsed": true
   },
   "outputs": [],
   "source": [
    "import jieba"
   ]
  },
  {
   "cell_type": "code",
   "execution_count": 26,
   "metadata": {},
   "outputs": [
    {
     "name": "stdout",
     "output_type": "stream",
     "text": [
      "['小车']\n",
      "['车辆', '停止']\n"
     ]
    }
   ],
   "source": [
    "def jieba_devide(sentence):\n",
    "    sen_list=[]\n",
    "    seg_list = jieba.cut(sentence, cut_all=False)# 精确模式\n",
    "    sen_str=\" \".join(seg_list)\n",
    "    sen_list=[str(i) for i in sen_str.split()]\n",
    "    return sen_list\n",
    "b='小车'\n",
    "c='车辆停止'\n",
    "print(jieba_devide(b))\n",
    "print(jieba_devide(c))\n",
    "if '止' in b:\n",
    "    print(1)\n"
   ]
  },
  {
   "cell_type": "code",
   "execution_count": null,
   "metadata": {
    "collapsed": true
   },
   "outputs": [],
   "source": []
  }
 ],
 "metadata": {
  "kernelspec": {
   "display_name": "Python 3",
   "language": "python",
   "name": "python3"
  },
  "language_info": {
   "codemirror_mode": {
    "name": "ipython",
    "version": 3
   },
   "file_extension": ".py",
   "mimetype": "text/x-python",
   "name": "python",
   "nbconvert_exporter": "python",
   "pygments_lexer": "ipython3",
   "version": "3.6.3"
  }
 },
 "nbformat": 4,
 "nbformat_minor": 2
}
