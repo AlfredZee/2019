{
 "cells": [
  {
   "cell_type": "code",
   "execution_count": 1,
   "metadata": {
    "collapsed": true
   },
   "outputs": [],
   "source": [
    "import os\n",
    "import time\n",
    "import threading\n",
    "import ali_speech\n",
    "import pyaudio\n",
    "import wave\n",
    "import jieba\n",
    "from ali_speech.callbacks import SpeechRecognizerCallback\n",
    "from ali_speech.constant import ASRFormat\n",
    "from ali_speech.constant import ASRSampleRate\n",
    "from get_audio import get_audio\n",
    "from word_devide import jieba_devide\n",
    "from find_command import find_cmd"
   ]
  },
  {
   "cell_type": "code",
   "execution_count": 16,
   "metadata": {},
   "outputs": [
    {
     "name": "stdout",
     "output_type": "stream",
     "text": [
      "********** 开始录音：请在5秒内输入语音\n",
      "********** 录音结束\n",
      "\n"
     ]
    },
    {
     "name": "stderr",
     "output_type": "stream",
     "text": [
      "2019-06-27 23:21:02,951 alispeech-INFO  _on_open:78 sending start cmd: {\"header\": {\"namespace\": \"SpeechRecognizer\", \"appkey\": \"8qMtpb3T6XdGvxAt\", \"name\": \"StartRecognition\", \"message_id\": \"2ce7ffb098ef11e997b5d0577be247f7\", \"task_id\": \"2ce7ffb198ef11e99a18d0577be247f7\"}, \"context\": {\"sdk\": {\"name\": \"nls-sdk-python\", \"version\": \"2.0.1\"}}, \"payload\": {\"format\": \"pcm\", \"sample_rate\": 16000, \"enable_intermediate_result\": false, \"enable_punctuation_prediction\": true, \"enable_inverse_text_normalization\": true}}\n"
     ]
    },
    {
     "name": "stdout",
     "output_type": "stream",
     "text": [
      "MyCallback.OnRecognitionStarted: {'header': {'namespace': 'SpeechRecognizer', 'name': 'RecognitionStarted', 'status': 20000000, 'message_id': '64a46f14714d4c11a5b70e7bb664671f', 'task_id': '2ce7ffb198ef11e99a18d0577be247f7', 'status_text': 'Gateway:SUCCESS:Success.'}}\n",
      "sending audio...\n"
     ]
    },
    {
     "name": "stderr",
     "output_type": "stream",
     "text": [
      "2019-06-27 23:21:08,078 alispeech-INFO  stop:198 sending stop cmd: {\"header\": {\"namespace\": \"SpeechRecognizer\", \"appkey\": \"8qMtpb3T6XdGvxAt\", \"name\": \"StopRecognition\", \"message_id\": \"2ff64c1098ef11e9bb0cd0577be247f7\", \"task_id\": \"2ce7ffb198ef11e99a18d0577be247f7\"}}\n"
     ]
    },
    {
     "name": "stdout",
     "output_type": "stream",
     "text": [
      "MyCallback.OnRecognitionCompleted: file: input.wav, task_id:2ce7ffb198ef11e99a18d0577be247f7, result:\n",
      "MyCallback.OnRecognitionChannelClosed0\n",
      "\n",
      "********** 开始录音：请在5秒内输入语音\n",
      "********** 录音结束\n",
      "\n"
     ]
    },
    {
     "name": "stderr",
     "output_type": "stream",
     "text": [
      "2019-06-27 23:21:39,785 alispeech-INFO  _on_open:78 sending start cmd: {\"header\": {\"namespace\": \"SpeechRecognizer\", \"appkey\": \"8qMtpb3T6XdGvxAt\", \"name\": \"StartRecognition\", \"message_id\": \"42dc6b3498ef11e989f4d0577be247f7\", \"task_id\": \"42dc6b3598ef11e99236d0577be247f7\"}, \"context\": {\"sdk\": {\"name\": \"nls-sdk-python\", \"version\": \"2.0.1\"}}, \"payload\": {\"format\": \"pcm\", \"sample_rate\": 16000, \"enable_intermediate_result\": false, \"enable_punctuation_prediction\": true, \"enable_inverse_text_normalization\": true}}\n"
     ]
    },
    {
     "name": "stdout",
     "output_type": "stream",
     "text": [
      "MyCallback.OnRecognitionStarted: {'header': {'namespace': 'SpeechRecognizer', 'name': 'RecognitionStarted', 'status': 20000000, 'message_id': 'b953928e7a714b4398441210b9772dba', 'task_id': '42dc6b3598ef11e99236d0577be247f7', 'status_text': 'Gateway:SUCCESS:Success.'}}\n",
      "sending audio...\n"
     ]
    },
    {
     "name": "stderr",
     "output_type": "stream",
     "text": [
      "2019-06-27 23:21:44,902 alispeech-INFO  stop:198 sending stop cmd: {\"header\": {\"namespace\": \"SpeechRecognizer\", \"appkey\": \"8qMtpb3T6XdGvxAt\", \"name\": \"StopRecognition\", \"message_id\": \"45e92ed098ef11e9b9d2d0577be247f7\", \"task_id\": \"42dc6b3598ef11e99236d0577be247f7\"}}\n"
     ]
    },
    {
     "name": "stdout",
     "output_type": "stream",
     "text": [
      "MyCallback.OnRecognitionCompleted: file: input.wav, task_id:42dc6b3598ef11e99236d0577be247f7, result:前进\n",
      "MyCallback.OnRecognitionChannelClosed1\n",
      "\n",
      "********** 开始录音：请在5秒内输入语音\n",
      "********** 录音结束\n",
      "\n"
     ]
    },
    {
     "name": "stderr",
     "output_type": "stream",
     "text": [
      "2019-06-27 23:22:16,532 alispeech-INFO  _on_open:78 sending start cmd: {\"header\": {\"namespace\": \"SpeechRecognizer\", \"appkey\": \"8qMtpb3T6XdGvxAt\", \"name\": \"StartRecognition\", \"message_id\": \"58c3858a98ef11e9af89d0577be247f7\", \"task_id\": \"58c3858b98ef11e99000d0577be247f7\"}, \"context\": {\"sdk\": {\"name\": \"nls-sdk-python\", \"version\": \"2.0.1\"}}, \"payload\": {\"format\": \"pcm\", \"sample_rate\": 16000, \"enable_intermediate_result\": false, \"enable_punctuation_prediction\": true, \"enable_inverse_text_normalization\": true}}\n"
     ]
    },
    {
     "name": "stdout",
     "output_type": "stream",
     "text": [
      "MyCallback.OnRecognitionStarted: {'header': {'namespace': 'SpeechRecognizer', 'name': 'RecognitionStarted', 'status': 20000000, 'message_id': '476ddda17ec641c681c86bc15ea6e846', 'task_id': '58c3858b98ef11e99000d0577be247f7', 'status_text': 'Gateway:SUCCESS:Success.'}}sending audio...\n",
      "\n"
     ]
    },
    {
     "name": "stderr",
     "output_type": "stream",
     "text": [
      "2019-06-27 23:22:21,655 alispeech-INFO  stop:198 sending stop cmd: {\"header\": {\"namespace\": \"SpeechRecognizer\", \"appkey\": \"8qMtpb3T6XdGvxAt\", \"name\": \"StopRecognition\", \"message_id\": \"5bd1389898ef11e9a134d0577be247f7\", \"task_id\": \"58c3858b98ef11e99000d0577be247f7\"}}\n"
     ]
    },
    {
     "name": "stdout",
     "output_type": "stream",
     "text": [
      "MyCallback.OnRecognitionCompleted: file: input.wav, task_id:58c3858b98ef11e99000d0577be247f7, result:左转\n",
      "MyCallback.OnRecognitionChannelClosed3\n",
      "\n"
     ]
    }
   ],
   "source": [
    "input_filename = \"input.wav\"               # 麦克风采集的语音输入\n",
    "input_filepath = \"C:/Users/王子维/Desktop/my_test/one_sentence/\"              # 输入文件的path\n",
    "in_path = input_filepath + input_filename\n",
    "\n",
    "\n",
    "class MyCallback(SpeechRecognizerCallback):\n",
    "    \"\"\"\n",
    "    构造函数的参数没有要求，可根据需要设置添加\n",
    "    示例中的name参数可作为待识别的音频文件名，用于在多线程中进行区分\n",
    "    \"\"\"\n",
    "    sen=''\n",
    "    \n",
    "    def __init__(self, name='input'):\n",
    "        self._name = name\n",
    "    def on_started(self, message):\n",
    "        print('MyCallback.OnRecognitionStarted: %s' % message)\n",
    "    def on_result_changed(self, message):\n",
    "        print('MyCallback.OnRecognitionResultChanged: file: %s, task_id: %s, result: %s' % (\n",
    "            self._name, message['header']['task_id'], message['payload']['result']))\n",
    "    def on_completed(self, message):\n",
    "        print('MyCallback.OnRecognitionCompleted: file: %s, task_id:%s, result:%s' % (\n",
    "            self._name, message['header']['task_id'], message['payload']['result']))\n",
    "        MyCallback.sen=message['payload']['result']\n",
    "    def on_task_failed(self, message):\n",
    "        print('MyCallback.OnRecognitionTaskFailed: %s' % message)\n",
    "    def on_channel_closed(self):\n",
    "        print('MyCallback.OnRecognitionChannelClosed')\n",
    "def process(client, appkey, token):\n",
    "    audio_name = 'input.wav'\n",
    "    callback = MyCallback(audio_name)\n",
    "    recognizer = client.create_recognizer(callback)\n",
    "    recognizer.set_appkey(appkey)\n",
    "    recognizer.set_token(token)\n",
    "    recognizer.set_format(ASRFormat.PCM)\n",
    "    recognizer.set_sample_rate(ASRSampleRate.SAMPLE_RATE_16K)\n",
    "    recognizer.set_enable_intermediate_result(False)\n",
    "    recognizer.set_enable_punctuation_prediction(True)\n",
    "    recognizer.set_enable_inverse_text_normalization(True)\n",
    "    try:\n",
    "        ret = recognizer.start()\n",
    "        if ret < 0:\n",
    "            return ret\n",
    "        print('sending audio...')\n",
    "        with open(audio_name, 'rb') as f:\n",
    "            audio = f.read(3200)\n",
    "            while audio:\n",
    "                ret = recognizer.send(audio)\n",
    "                if ret < 0:\n",
    "                    break\n",
    "                time.sleep(0.1)\n",
    "                audio = f.read(3200)\n",
    "        recognizer.stop()\n",
    "    except Exception as e:\n",
    "        print(e)\n",
    "    finally:\n",
    "        recognizer.close()\n",
    "    return MyCallback.sen\n",
    "def process_multithread(client, appkey, token, number):\n",
    "    thread_list = []\n",
    "    for i in range(0, number):\n",
    "        thread = threading.Thread(target=process, args=(client, appkey, token))\n",
    "        thread_list.append(thread)\n",
    "        thread.start()\n",
    "    for thread in thread_list:\n",
    "        thread.join()\n",
    "if __name__ == \"__main__\":\n",
    "    client = ali_speech.NlsClient()\n",
    "    # 设置输出日志信息的级别：DEBUG、INFO、WARNING、ERROR\n",
    "    client.set_log_level('INFO')\n",
    "    appkey = '8qMtpb3T6XdGvxAt'\n",
    "    token = 'ebfcc60d20b446bfae15d33b680f4893'\n",
    "    sec=1\n",
    "    i=0\n",
    "    while (sec==1):\n",
    "        get_audio(in_path)\n",
    "        sentence_result=process(client, appkey, token)\n",
    "        if sentence_result =='':\n",
    "            sentence_result='错误'\n",
    "        word_list=jieba_devide(sentence_result)\n",
    "        cmd=find_cmd(word_list)\n",
    "        print(cmd)\n",
    "        time.sleep(21)#具体延迟看stm32的反应速度\n",
    "        #在此处开始调用串口传递函数传参cmd"
   ]
  },
  {
   "cell_type": "code",
   "execution_count": null,
   "metadata": {
    "collapsed": true
   },
   "outputs": [],
   "source": []
  }
 ],
 "metadata": {
  "kernelspec": {
   "display_name": "Python 3",
   "language": "python",
   "name": "python3"
  },
  "language_info": {
   "codemirror_mode": {
    "name": "ipython",
    "version": 3
   },
   "file_extension": ".py",
   "mimetype": "text/x-python",
   "name": "python",
   "nbconvert_exporter": "python",
   "pygments_lexer": "ipython3",
   "version": "3.6.5"
  }
 },
 "nbformat": 4,
 "nbformat_minor": 2
}
