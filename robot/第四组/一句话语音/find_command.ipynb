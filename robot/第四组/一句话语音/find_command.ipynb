{
 "cells": [
  {
   "cell_type": "code",
   "execution_count": 2,
   "metadata": {},
   "outputs": [
    {
     "name": "stdout",
     "output_type": "stream",
     "text": [
      "0\n"
     ]
    }
   ],
   "source": [
    "def (word_list):\n",
    "    for i in word_list:\n",
    "        if(i=='前' or i=='前进' or i=='向前' or i=='向前走'):\n",
    "            a=1\n",
    "            break\n",
    "        elif(i=='后' or i=='后退' or i=='向后' or i=='向后走' or i=='退' or i=='向后退'):\n",
    "            a=2\n",
    "            break\n",
    "        elif(i=='左' or i=='左转' or i=='向左转' or i=='向左' or i=='左边'):\n",
    "            a=3\n",
    "            break\n",
    "        elif(i=='右' or i=='右转' or i=='向右转' or i=='向右' or i=='右边'):\n",
    "            a=4\n",
    "            break\n",
    "        elif(i=='停止' or i=='停' or i=='停下来' or i=='关闭' or i=='停车'):\n",
    "            a=5\n",
    "            break\n",
    "        elif(i=='加' or i=='加速' or i=='加快' or i=='快'):\n",
    "            a=6\n",
    "            break\n",
    "        elif(i=='减' or i=='减速' or i=='减慢' or i=='慢' ):\n",
    "            a=7\n",
    "            break\n",
    "    return a  "
   ]
  },
  {
   "cell_type": "code",
   "execution_count": null,
   "metadata": {
    "collapsed": true
   },
   "outputs": [],
   "source": []
  }
 ],
 "metadata": {
  "kernelspec": {
   "display_name": "Python 3",
   "language": "python",
   "name": "python3"
  },
  "language_info": {
   "codemirror_mode": {
    "name": "ipython",
    "version": 3
   },
   "file_extension": ".py",
   "mimetype": "text/x-python",
   "name": "python",
   "nbconvert_exporter": "python",
   "pygments_lexer": "ipython3",
   "version": "3.6.3"
  }
 },
 "nbformat": 4,
 "nbformat_minor": 2
}
